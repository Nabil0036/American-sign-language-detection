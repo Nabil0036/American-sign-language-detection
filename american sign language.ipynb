{
 "cells": [
  {
   "cell_type": "code",
   "execution_count": 1,
   "metadata": {
    "_cell_guid": "b1076dfc-b9ad-4769-8c92-a6c4dae69d19",
    "_uuid": "8f2839f25d086af736a60e9eeb907d3b93b6e0e5"
   },
   "outputs": [],
   "source": [
    "import tensorflow as tf\n",
    "from tensorflow.keras.models import Sequential\n",
    "from tensorflow.keras.layers import Dense,Conv2D,MaxPool2D,Flatten,Dropout\n",
    "from tensorflow.keras.utils import to_categorical\n",
    "import numpy as np\n",
    "import pandas as pd\n",
    "import os \n",
    "import matplotlib.pyplot as plt"
   ]
  },
  {
   "cell_type": "code",
   "execution_count": 2,
   "metadata": {
    "_cell_guid": "79c7e3d0-c299-4dcb-8224-4455121ee9b0",
    "_uuid": "d629ff2d2480ee46fbb7e2d37f6b5fab8052498a"
   },
   "outputs": [],
   "source": [
    "with open(\"sign_mnist_train.csv\") as f:\n",
    "    content = f.readlines()\n",
    "    \n",
    "with open(\"sign_mnist_test.csv\") as f_test:\n",
    "    content_test = f_test.readlines()"
   ]
  },
  {
   "cell_type": "code",
   "execution_count": 3,
   "metadata": {
    "collapsed": true
   },
   "outputs": [
    {
     "data": {
      "text/plain": [
       "7173"
      ]
     },
     "execution_count": 3,
     "metadata": {},
     "output_type": "execute_result"
    }
   ],
   "source": [
    "lines = np.array(content)\n",
    "num_of_instances = lines.size\n",
    "###############################\n",
    "lines_test = np.array(content_test)\n",
    "num_of_instances_test = lines_test.size"
   ]
  },
  {
   "cell_type": "code",
   "execution_count": 4,
   "metadata": {},
   "outputs": [],
   "source": [
    "class Process:\n",
    "    \n",
    "    def __init__(self,line):\n",
    "        self.line = line \n",
    "    \n",
    "    def split(self):\n",
    "        return self.line.split(\",\")\n",
    "    \n",
    "    def length(self,a):\n",
    "        self.a = a\n",
    "        return len(self.a)\n",
    "    \n",
    "    def vec(self,a,l):\n",
    "        self.a = a\n",
    "        self.l = l\n",
    "        b = self.a[1:l]\n",
    "        return b\n",
    "    \n",
    "    def intvec(self,vec):\n",
    "        self.vec = vec\n",
    "        a = [int(i) for i in self.vec]\n",
    "        return a\n",
    "    \n",
    "    def reshape(self,b):\n",
    "        self.b = b\n",
    "        q = np.array(self.b).reshape(28,28)\n",
    "        return q\n",
    "        \n",
    "        \n",
    "    "
   ]
  },
  {
   "cell_type": "code",
   "execution_count": 5,
   "metadata": {},
   "outputs": [],
   "source": [
    "def full_process(line):\n",
    "    p = Process(line)\n",
    "    splitted = p.split()\n",
    "    label = splitted[0]\n",
    "    length = p.length(splitted)\n",
    "    vector= p.vec(splitted,length)\n",
    "    integer_vector = p.intvec(vector)\n",
    "    final = p.reshape(integer_vector)\n",
    "    return final,label"
   ]
  },
  {
   "cell_type": "code",
   "execution_count": 6,
   "metadata": {},
   "outputs": [],
   "source": [
    "X_train = []\n",
    "y_train = []\n",
    "X_test = []\n",
    "y_test = []\n",
    "for i in range(1,num_of_instances):\n",
    "    example = lines[i]\n",
    "    q,label=full_process(example)\n",
    "    X_train.append(q)\n",
    "    y_train.append(int(label))\n",
    "\n",
    "for i in range(1,num_of_instances_test):\n",
    "    example_test = lines_test[i]\n",
    "    q_test,label_test=full_process(example_test)\n",
    "    X_test.append(q_test)\n",
    "    y_test.append(int(label_test))\n",
    "    "
   ]
  },
  {
   "cell_type": "code",
   "execution_count": 7,
   "metadata": {},
   "outputs": [],
   "source": [
    "X_train = np.array(X_train).reshape(-1,28,28)\n",
    "y_train = np.array(y_train)\n",
    "X_test = np.array(X_test).reshape(-1,28,28)\n",
    "y_test = np.array(y_test)"
   ]
  },
  {
   "cell_type": "code",
   "execution_count": 8,
   "metadata": {},
   "outputs": [],
   "source": [
    "y_train_oh = to_categorical(y_train,num_classes=25)\n",
    "y_test_oh = to_categorical(y_test,num_classes=25)"
   ]
  },
  {
   "cell_type": "code",
   "execution_count": 9,
   "metadata": {},
   "outputs": [],
   "source": [
    "X_train = X_train/ 255\n",
    "X_test = X_test/ 255"
   ]
  },
  {
   "cell_type": "code",
   "execution_count": 10,
   "metadata": {},
   "outputs": [],
   "source": [
    "X_train = X_train.reshape(27455,28,28,1)"
   ]
  },
  {
   "cell_type": "code",
   "execution_count": 11,
   "metadata": {},
   "outputs": [],
   "source": [
    "X_test = X_test.reshape(7172,28,28,1)"
   ]
  },
  {
   "cell_type": "code",
   "execution_count": 12,
   "metadata": {},
   "outputs": [
    {
     "data": {
      "text/plain": [
       "(27455, 28, 28, 1)"
      ]
     },
     "execution_count": 12,
     "metadata": {},
     "output_type": "execute_result"
    }
   ],
   "source": [
    "X_train.shape"
   ]
  },
  {
   "cell_type": "code",
   "execution_count": 13,
   "metadata": {},
   "outputs": [],
   "source": [
    "model = Sequential()\n",
    "\n",
    "model.add(Conv2D(filters=32,kernel_size=(4,4),input_shape=(28,28,1),activation='relu'))\n",
    "model.add(MaxPool2D(pool_size=(2,2)))\n",
    "model.add(Dropout(0.5))\n",
    "\n",
    "model.add(Flatten())\n",
    "\n",
    "model.add(Dense(256,activation='relu'))\n",
    "\n",
    "model.add(Dense(25,activation='softmax'))\n",
    "\n",
    "model.compile(loss = \"categorical_crossentropy\", optimizer = \"adam\",metrics=['accuracy'])"
   ]
  },
  {
   "cell_type": "code",
   "execution_count": 14,
   "metadata": {},
   "outputs": [],
   "source": [
    "from tensorflow.keras.callbacks import EarlyStopping"
   ]
  },
  {
   "cell_type": "code",
   "execution_count": 15,
   "metadata": {},
   "outputs": [],
   "source": [
    "early_stop = EarlyStopping(monitor='val_loss',patience=3)"
   ]
  },
  {
   "cell_type": "code",
   "execution_count": 16,
   "metadata": {},
   "outputs": [
    {
     "name": "stdout",
     "output_type": "stream",
     "text": [
      "Train on 27455 samples, validate on 7172 samples\n",
      "Epoch 1/30\n",
      "27455/27455 [==============================] - 41s 1ms/sample - loss: 0.8527 - accuracy: 0.7734 - val_loss: 0.5301 - val_accuracy: 0.8296\n",
      "Epoch 2/30\n",
      "27455/27455 [==============================] - 37s 1ms/sample - loss: 0.0831 - accuracy: 0.9830 - val_loss: 0.5017 - val_accuracy: 0.8689\n",
      "Epoch 3/30\n",
      "27455/27455 [==============================] - 39s 1ms/sample - loss: 0.0280 - accuracy: 0.9956 - val_loss: 0.5088 - val_accuracy: 0.8779\n",
      "Epoch 4/30\n",
      "27455/27455 [==============================] - 35s 1ms/sample - loss: 0.0155 - accuracy: 0.9973 - val_loss: 0.5909 - val_accuracy: 0.8717\n",
      "Epoch 5/30\n",
      "27455/27455 [==============================] - 38s 1ms/sample - loss: 0.0142 - accuracy: 0.9968 - val_loss: 0.5917 - val_accuracy: 0.8910\n"
     ]
    }
   ],
   "source": [
    "history = model.fit(X_train,y_train_oh,epochs=30,validation_data=(X_test,y_test_oh),callbacks=[early_stop])"
   ]
  },
  {
   "cell_type": "code",
   "execution_count": 17,
   "metadata": {},
   "outputs": [],
   "source": [
    "import pandas as pd"
   ]
  },
  {
   "cell_type": "code",
   "execution_count": 18,
   "metadata": {},
   "outputs": [],
   "source": [
    " metrics= pd.DataFrame(model.history.history)"
   ]
  },
  {
   "cell_type": "code",
   "execution_count": 19,
   "metadata": {},
   "outputs": [
    {
     "data": {
      "text/plain": [
       "<matplotlib.axes._subplots.AxesSubplot at 0x19ef62afac8>"
      ]
     },
     "execution_count": 19,
     "metadata": {},
     "output_type": "execute_result"
    },
    {
     "data": {
      "image/png": "[encoded data removed]",
      "text/plain": [
       "<Figure size 432x288 with 1 Axes>"
      ]
     },
     "metadata": {
      "needs_background": "light"
     },
     "output_type": "display_data"
    }
   ],
   "source": [
    "metrics.plot()"
   ]
  },
  {
   "cell_type": "code",
   "execution_count": 20,
   "metadata": {},
   "outputs": [],
   "source": [
    "model.save('model_one.h5')"
   ]
  },
  {
   "cell_type": "code",
   "execution_count": 21,
   "metadata": {},
   "outputs": [
    {
     "data": {
      "text/plain": [
       "<matplotlib.axes._subplots.AxesSubplot at 0x19ef6b534c8>"
      ]
     },
     "execution_count": 21,
     "metadata": {},
     "output_type": "execute_result"
    },
    {
     "data": {
      "image/png": "[encoded data removed]",
      "text/plain": [
       "<Figure size 432x288 with 1 Axes>"
      ]
     },
     "metadata": {
      "needs_background": "light"
     },
     "output_type": "display_data"
    }
   ],
   "source": [
    "metrics[['loss','val_loss']].plot()"
   ]
  },
  {
   "cell_type": "code",
   "execution_count": 22,
   "metadata": {},
   "outputs": [],
   "source": [
    "model2 = Sequential()\n",
    "\n",
    "model2.add(Conv2D(filters=32,kernel_size=(4,4),input_shape=(28,28,1),activation='relu'))\n",
    "model2.add(MaxPool2D(pool_size=(2,2)))\n",
    "model2.add(Dropout(0.5))\n",
    "\n",
    "model2.add(Conv2D(filters=64,kernel_size=(4,4),activation='relu'))\n",
    "model2.add(MaxPool2D(pool_size=(2,2)))\n",
    "model2.add(Dropout(0.5))\n",
    "\n",
    "model2.add(Flatten())\n",
    "\n",
    "model2.add(Dense(256,activation='relu'))\n",
    "\n",
    "model2.add(Dense(25,activation='softmax'))\n",
    "\n",
    "model2.compile(loss = \"categorical_crossentropy\", optimizer = \"adam\",metrics=['accuracy'])"
   ]
  },
  {
   "cell_type": "code",
   "execution_count": 23,
   "metadata": {},
   "outputs": [
    {
     "name": "stdout",
     "output_type": "stream",
     "text": [
      "Train on 27455 samples, validate on 7172 samples\n",
      "Epoch 1/20\n",
      "27455/27455 [==============================] - 49s 2ms/sample - loss: 1.1514 - accuracy: 0.6463 - val_loss: 0.4012 - val_accuracy: 0.8812\n",
      "Epoch 2/20\n",
      "27455/27455 [==============================] - 45s 2ms/sample - loss: 0.2119 - accuracy: 0.9295 - val_loss: 0.2259 - val_accuracy: 0.9368\n",
      "Epoch 3/20\n",
      "27455/27455 [==============================] - 45s 2ms/sample - loss: 0.0992 - accuracy: 0.9683 - val_loss: 0.1864 - val_accuracy: 0.9484\n",
      "Epoch 4/20\n",
      "27455/27455 [==============================] - 47s 2ms/sample - loss: 0.0588 - accuracy: 0.9818 - val_loss: 0.2050 - val_accuracy: 0.9446\n",
      "Epoch 5/20\n",
      "27455/27455 [==============================] - 52s 2ms/sample - loss: 0.0453 - accuracy: 0.9856 - val_loss: 0.2092 - val_accuracy: 0.9579\n",
      "Epoch 6/20\n",
      "27455/27455 [==============================] - 55s 2ms/sample - loss: 0.0416 - accuracy: 0.9869 - val_loss: 0.1914 - val_accuracy: 0.9530\n"
     ]
    }
   ],
   "source": [
    "history2= model2.fit(X_train,y_train_oh,epochs=20,validation_data=[X_test,y_test_oh],callbacks=[early_stop])"
   ]
  },
  {
   "cell_type": "code",
   "execution_count": 24,
   "metadata": {},
   "outputs": [],
   "source": [
    " metrics2= pd.DataFrame(model2.history.history)"
   ]
  },
  {
   "cell_type": "code",
   "execution_count": 25,
   "metadata": {},
   "outputs": [
    {
     "data": {
      "text/plain": [
       "<matplotlib.axes._subplots.AxesSubplot at 0x19ef7d1ef48>"
      ]
     },
     "execution_count": 25,
     "metadata": {},
     "output_type": "execute_result"
    },
    {
     "data": {
      "image/png": "[encoded data removed]",
      "text/plain": [
       "<Figure size 432x288 with 1 Axes>"
      ]
     },
     "metadata": {
      "needs_background": "light"
     },
     "output_type": "display_data"
    }
   ],
   "source": [
    "metrics2.plot()"
   ]
  },
  {
   "cell_type": "markdown",
   "metadata": {},
   "source": [
    "Lets add another convolutional layer"
   ]
  },
  {
   "cell_type": "code",
   "execution_count": 26,
   "metadata": {},
   "outputs": [],
   "source": [
    "model2.save('model_two.h5')"
   ]
  },
  {
   "cell_type": "code",
   "execution_count": 27,
   "metadata": {},
   "outputs": [],
   "source": [
    "model3 = Sequential()\n",
    "\n",
    "model3.add(Conv2D(filters=32,kernel_size=(4,4),input_shape=(28,28,1),activation='relu'))\n",
    "model3.add(MaxPool2D(pool_size=(2,2)))\n",
    "model3.add(Dropout(0.5))\n",
    "\n",
    "model3.add(Conv2D(filters=64,kernel_size=(4,4),activation='relu'))\n",
    "model3.add(MaxPool2D(pool_size=(2,2)))\n",
    "model3.add(Dropout(0.5))\n",
    "\n",
    "model3.add(Flatten())\n",
    "\n",
    "model3.add(Dense(256,activation='relu'))\n",
    "\n",
    "model3.add(Dense(25,activation='softmax'))\n",
    "\n",
    "model3.compile(loss = \"categorical_crossentropy\", optimizer = \"rmsprop\",metrics=['accuracy'])"
   ]
  },
  {
   "cell_type": "code",
   "execution_count": 28,
   "metadata": {},
   "outputs": [
    {
     "name": "stdout",
     "output_type": "stream",
     "text": [
      "Train on 27455 samples, validate on 7172 samples\n",
      "Epoch 1/20\n",
      "27455/27455 [==============================] - 63s 2ms/sample - loss: 1.2577 - accuracy: 0.6145 - val_loss: 0.4533 - val_accuracy: 0.8597\n",
      "Epoch 2/20\n",
      "27455/27455 [==============================] - 64s 2ms/sample - loss: 0.2529 - accuracy: 0.9165 - val_loss: 0.2450 - val_accuracy: 0.9345\n",
      "Epoch 3/20\n",
      "27455/27455 [==============================] - 56s 2ms/sample - loss: 0.1187 - accuracy: 0.9612 - val_loss: 0.2001 - val_accuracy: 0.9426\n",
      "Epoch 4/20\n",
      "27455/27455 [==============================] - 59s 2ms/sample - loss: 0.0710 - accuracy: 0.9761 - val_loss: 0.1851 - val_accuracy: 0.9604\n",
      "Epoch 5/20\n",
      "27455/27455 [==============================] - 56s 2ms/sample - loss: 0.0528 - accuracy: 0.9828 - val_loss: 0.1936 - val_accuracy: 0.9449\n",
      "Epoch 6/20\n",
      "27455/27455 [==============================] - 57s 2ms/sample - loss: 0.0421 - accuracy: 0.9858 - val_loss: 0.1984 - val_accuracy: 0.9575\n",
      "Epoch 7/20\n",
      "27455/27455 [==============================] - 47s 2ms/sample - loss: 0.0333 - accuracy: 0.9888 - val_loss: 0.2127 - val_accuracy: 0.9578\n"
     ]
    }
   ],
   "source": [
    "history3= model3.fit(X_train,y_train_oh,epochs=20,validation_data=[X_test,y_test_oh],callbacks=[early_stop])"
   ]
  },
  {
   "cell_type": "code",
   "execution_count": 29,
   "metadata": {},
   "outputs": [],
   "source": [
    "model3.save(\"model_three.h5\")"
   ]
  },
  {
   "cell_type": "code",
   "execution_count": 30,
   "metadata": {},
   "outputs": [],
   "source": [
    "test_case= X_test[5].reshape(28,28)"
   ]
  },
  {
   "cell_type": "code",
   "execution_count": 31,
   "metadata": {},
   "outputs": [
    {
     "data": {
      "text/plain": [
       "<matplotlib.image.AxesImage at 0x19ef8c9e8c8>"
      ]
     },
     "execution_count": 31,
     "metadata": {},
     "output_type": "execute_result"
    },
    {
     "data": {
      "image/png": "[encoded data removed]",
      "text/plain": [
       "<Figure size 432x288 with 1 Axes>"
      ]
     },
     "metadata": {
      "needs_background": "light"
     },
     "output_type": "display_data"
    }
   ],
   "source": [
    "plt.imshow(test_case,cmap='gray')"
   ]
  },
  {
   "cell_type": "code",
   "execution_count": 32,
   "metadata": {},
   "outputs": [
    {
     "data": {
      "text/plain": [
       "21"
      ]
     },
     "execution_count": 32,
     "metadata": {},
     "output_type": "execute_result"
    }
   ],
   "source": [
    "model2.predict_classes(X_test)[5]"
   ]
  },
  {
   "cell_type": "code",
   "execution_count": 33,
   "metadata": {},
   "outputs": [
    {
     "data": {
      "text/plain": [
       "21"
      ]
     },
     "execution_count": 33,
     "metadata": {},
     "output_type": "execute_result"
    }
   ],
   "source": [
    "y_test[5]"
   ]
  },
  {
   "cell_type": "code",
   "execution_count": 34,
   "metadata": {},
   "outputs": [
    {
     "name": "stdout",
     "output_type": "stream",
     "text": [
      "Model: \"sequential_1\"\n",
      "_________________________________________________________________\n",
      "Layer (type)                 Output Shape              Param #   \n",
      "=================================================================\n",
      "conv2d_1 (Conv2D)            (None, 25, 25, 32)        544       \n",
      "_________________________________________________________________\n",
      "max_pooling2d_1 (MaxPooling2 (None, 12, 12, 32)        0         \n",
      "_________________________________________________________________\n",
      "dropout_1 (Dropout)          (None, 12, 12, 32)        0         \n",
      "_________________________________________________________________\n",
      "conv2d_2 (Conv2D)            (None, 9, 9, 64)          32832     \n",
      "_________________________________________________________________\n",
      "max_pooling2d_2 (MaxPooling2 (None, 4, 4, 64)          0         \n",
      "_________________________________________________________________\n",
      "dropout_2 (Dropout)          (None, 4, 4, 64)          0         \n",
      "_________________________________________________________________\n",
      "flatten_1 (Flatten)          (None, 1024)              0         \n",
      "_________________________________________________________________\n",
      "dense_2 (Dense)              (None, 256)               262400    \n",
      "_________________________________________________________________\n",
      "dense_3 (Dense)              (None, 25)                6425      \n",
      "=================================================================\n",
      "Total params: 302,201\n",
      "Trainable params: 302,201\n",
      "Non-trainable params: 0\n",
      "_________________________________________________________________\n"
     ]
    }
   ],
   "source": [
    "model2.summary()"
   ]
  },
  {
   "cell_type": "code",
   "execution_count": 35,
   "metadata": {},
   "outputs": [
    {
     "data": {
      "text/plain": [
       "[0.591713486729372, 0.89096487]"
      ]
     },
     "execution_count": 35,
     "metadata": {},
     "output_type": "execute_result"
    }
   ],
   "source": [
    "model.evaluate(X_test,y_test_oh,verbose=0)"
   ]
  },
  {
   "cell_type": "code",
   "execution_count": 36,
   "metadata": {},
   "outputs": [
    {
     "data": {
      "text/plain": [
       "[0.1914124102028161, 0.9530117]"
      ]
     },
     "execution_count": 36,
     "metadata": {},
     "output_type": "execute_result"
    }
   ],
   "source": [
    "model2.evaluate(X_test,y_test_oh,verbose=0)"
   ]
  },
  {
   "cell_type": "code",
   "execution_count": 37,
   "metadata": {},
   "outputs": [
    {
     "data": {
      "text/plain": [
       "[0.21270719755724554, 0.95775235]"
      ]
     },
     "execution_count": 37,
     "metadata": {},
     "output_type": "execute_result"
    }
   ],
   "source": [
    "model3.evaluate(X_test,y_test_oh,verbose=0)"
   ]
  },
  {
   "cell_type": "markdown",
   "metadata": {},
   "source": []
  },
  {
   "cell_type": "code",
   "execution_count": null,
   "metadata": {},
   "outputs": [],
   "source": []
  },
  {
   "cell_type": "code",
   "execution_count": null,
   "metadata": {},
   "outputs": [],
   "source": []
  },
  {
   "cell_type": "code",
   "execution_count": null,
   "metadata": {},
   "outputs": [],
   "source": []
  }
 ],
 "metadata": {
  "kernelspec": {
   "display_name": "Python 3",
   "language": "python",
   "name": "python3"
  },
  "language_info": {
   "codemirror_mode": {
    "name": "ipython",
    "version": 3
   },
   "file_extension": ".py",
   "mimetype": "text/x-python",
   "name": "python",
   "nbconvert_exporter": "python",
   "pygments_lexer": "ipython3",
   "version": "3.7.6"
  }
 },
 "nbformat": 4,
 "nbformat_minor": 4
}
