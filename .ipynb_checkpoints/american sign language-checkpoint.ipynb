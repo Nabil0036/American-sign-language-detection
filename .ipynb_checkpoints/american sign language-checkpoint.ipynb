{
 "cells": [
  {
   "cell_type": "code",
   "execution_count": 2,
   "metadata": {
    "_cell_guid": "b1076dfc-b9ad-4769-8c92-a6c4dae69d19",
    "_uuid": "8f2839f25d086af736a60e9eeb907d3b93b6e0e5"
   },
   "outputs": [
    {
     "name": "stdout",
     "output_type": "stream",
     "text": [
      "/kaggle/input/sign-language-mnist/american_sign_language.PNG\n",
      "/kaggle/input/sign-language-mnist/amer_sign2.png\n",
      "/kaggle/input/sign-language-mnist/sign_mnist_train.csv\n",
      "/kaggle/input/sign-language-mnist/amer_sign3.png\n",
      "/kaggle/input/sign-language-mnist/sign_mnist_test.csv\n",
      "/kaggle/input/sign-language-mnist/sign_mnist_train/sign_mnist_train.csv\n",
      "/kaggle/input/sign-language-mnist/sign_mnist_test/sign_mnist_test.csv\n"
     ]
    }
   ],
   "source": [
    "import numpy as np\n",
    "import pandas as pd\n",
    "import os \n",
    "import matplotlib.pyplot as plt"
   ]
  },
  {
   "cell_type": "code",
   "execution_count": 3,
   "metadata": {
    "_cell_guid": "79c7e3d0-c299-4dcb-8224-4455121ee9b0",
    "_uuid": "d629ff2d2480ee46fbb7e2d37f6b5fab8052498a"
   },
   "outputs": [],
   "source": [
    "with open(\"/kaggle/input/sign-language-mnist/sign_mnist_train/sign_mnist_train.csv\") as f:\n",
    "    content = f.readlines()\n",
    "    \n",
    "with open(\"/kaggle/input/sign-language-mnist/sign_mnist_test/sign_mnist_test.csv\") as f_test:\n",
    "    content_test = f_test.readlines()"
   ]
  },
  {
   "cell_type": "code",
   "execution_count": 4,
   "metadata": {},
   "outputs": [
    {
     "data": {
      "text/plain": [
       "27456"
      ]
     },
     "execution_count": 4,
     "metadata": {},
     "output_type": "execute_result"
    }
   ],
   "source": [
    "lines = np.array(content)\n",
    "num_of_instances = lines.size\n",
    "num_of_instances\n",
    "\n",
    "lines_test = np.array(content_test)\n",
    "num_of_instances_test = lines_test.size\n",
    "num_of_instances_test"
   ]
  },
  {
   "cell_type": "code",
   "execution_count": 5,
   "metadata": {},
   "outputs": [],
   "source": [
    "class Process:\n",
    "    \n",
    "    def __init__(self,line):\n",
    "        self.line = line \n",
    "    \n",
    "    def split(self):\n",
    "        return self.line.split(\",\")\n",
    "    \n",
    "    def length(self,a):\n",
    "        self.a = a\n",
    "        return len(self.a)\n",
    "    \n",
    "    def vec(self,a,l):\n",
    "        self.a = a\n",
    "        self.l = l\n",
    "        b = self.a[1:l]\n",
    "        return b\n",
    "    \n",
    "    def intvec(self,vec):\n",
    "        self.vec = vec\n",
    "        a = [int(i) for i in self.vec]\n",
    "        return a\n",
    "    \n",
    "    def reshape(self,b):\n",
    "        self.b = b\n",
    "        q = np.array(self.b).reshape(28,28)\n",
    "        return q\n",
    "        \n",
    "        \n",
    "    "
   ]
  },
  {
   "cell_type": "code",
   "execution_count": 6,
   "metadata": {},
   "outputs": [],
   "source": [
    "def full_process(line):\n",
    "    p = Process(line)\n",
    "    splitted = p.split()\n",
    "    label = splitted[0]\n",
    "    length = p.length(splitted)\n",
    "    vector= p.vec(splitted,length)\n",
    "    integer_vector = p.intvec(vector)\n",
    "    final = p.reshape(integer_vector)\n",
    "    return final,label"
   ]
  },
  {
   "cell_type": "code",
   "execution_count": 8,
   "metadata": {},
   "outputs": [],
   "source": [
    "X_train = []\n",
    "y_train = []\n",
    "X_test = []\n",
    "y_test = []\n",
    "for i in range(1,num_of_instances):\n",
    "    example = lines[i]\n",
    "    q,label=full_process(example)\n",
    "    X_train.append(q)\n",
    "    y_train.append(int(label))\n",
    "\n",
    "for i in range(1,num_of_instances_test):\n",
    "    example_test = lines_test[i]\n",
    "    q_test,label_test=full_process(example_test)\n",
    "    X_test.append(q_test)\n",
    "    y_test.append(int(label_test))\n",
    "    "
   ]
  },
  {
   "cell_type": "code",
   "execution_count": 12,
   "metadata": {},
   "outputs": [],
   "source": [
    "X_train = np.array(X_train).reshape(-1,28,28)\n",
    "y_train = np.array(y_train)\n",
    "X_test = np.array(X_test).reshape(-1,28,28)\n",
    "y_test = np.array(y_test)"
   ]
  },
  {
   "cell_type": "code",
   "execution_count": 15,
   "metadata": {},
   "outputs": [
    {
     "data": {
      "text/plain": [
       "(27455, 28, 28)"
      ]
     },
     "execution_count": 15,
     "metadata": {},
     "output_type": "execute_result"
    }
   ],
   "source": [
    "X_train.shape"
   ]
  },
  {
   "cell_type": "code",
   "execution_count": 20,
   "metadata": {},
   "outputs": [],
   "source": []
  },
  {
   "cell_type": "code",
   "execution_count": 21,
   "metadata": {},
   "outputs": [],
   "source": []
  },
  {
   "cell_type": "code",
   "execution_count": 22,
   "metadata": {},
   "outputs": [
    {
     "data": {
      "text/plain": [
       "(7172, 28, 28)"
      ]
     },
     "execution_count": 22,
     "metadata": {},
     "output_type": "execute_result"
    }
   ],
   "source": [
    "X_test.shape"
   ]
  },
  {
   "cell_type": "code",
   "execution_count": 23,
   "metadata": {},
   "outputs": [
    {
     "data": {
      "text/plain": [
       "(27455,)"
      ]
     },
     "execution_count": 23,
     "metadata": {},
     "output_type": "execute_result"
    }
   ],
   "source": [
    "y_train.shape"
   ]
  },
  {
   "cell_type": "code",
   "execution_count": 24,
   "metadata": {},
   "outputs": [
    {
     "data": {
      "text/plain": [
       "3"
      ]
     },
     "execution_count": 24,
     "metadata": {},
     "output_type": "execute_result"
    }
   ],
   "source": [
    "y_train[0]"
   ]
  },
  {
   "cell_type": "code",
   "execution_count": 25,
   "metadata": {},
   "outputs": [],
   "source": [
    "from tensorflow.keras.utils import to_categorical"
   ]
  },
  {
   "cell_type": "code",
   "execution_count": 26,
   "metadata": {},
   "outputs": [],
   "source": [
    "y_train_oh = to_categorical(y_train,num_classes=25)\n",
    "y_test_oh = to_categorical(y_test,num_classes=25)"
   ]
  },
  {
   "cell_type": "code",
   "execution_count": 27,
   "metadata": {},
   "outputs": [
    {
     "data": {
      "text/plain": [
       "(27455, 25)"
      ]
     },
     "execution_count": 27,
     "metadata": {},
     "output_type": "execute_result"
    }
   ],
   "source": [
    "y_train_oh.shape"
   ]
  },
  {
   "cell_type": "code",
   "execution_count": 28,
   "metadata": {},
   "outputs": [
    {
     "data": {
      "text/plain": [
       "array([0., 0., 0., 1., 0., 0., 0., 0., 0., 0., 0., 0., 0., 0., 0., 0., 0.,\n",
       "       0., 0., 0., 0., 0., 0., 0., 0.], dtype=float32)"
      ]
     },
     "execution_count": 28,
     "metadata": {},
     "output_type": "execute_result"
    }
   ],
   "source": [
    "y_train_oh[0]"
   ]
  },
  {
   "cell_type": "code",
   "execution_count": 29,
   "metadata": {},
   "outputs": [],
   "source": [
    "X_train = X_train/ 255\n",
    "X_test = X_test/ 255"
   ]
  },
  {
   "cell_type": "code",
   "execution_count": 31,
   "metadata": {},
   "outputs": [
    {
     "data": {
      "text/plain": [
       "(27455, 28, 28)"
      ]
     },
     "execution_count": 31,
     "metadata": {},
     "output_type": "execute_result"
    }
   ],
   "source": [
    "X_train.shape "
   ]
  },
  {
   "cell_type": "code",
   "execution_count": 32,
   "metadata": {},
   "outputs": [
    {
     "data": {
      "text/plain": [
       "(7172, 28, 28)"
      ]
     },
     "execution_count": 32,
     "metadata": {},
     "output_type": "execute_result"
    }
   ],
   "source": [
    "X_test.shape"
   ]
  },
  {
   "cell_type": "code",
   "execution_count": 33,
   "metadata": {},
   "outputs": [],
   "source": [
    "X_train = X_train.reshape(27455,28,28,1)"
   ]
  },
  {
   "cell_type": "code",
   "execution_count": 34,
   "metadata": {},
   "outputs": [],
   "source": [
    "X_test = X_test.reshape(7172,28,28,1)"
   ]
  },
  {
   "cell_type": "code",
   "execution_count": 35,
   "metadata": {},
   "outputs": [
    {
     "data": {
      "text/plain": [
       "(27455, 28, 28, 1)"
      ]
     },
     "execution_count": 35,
     "metadata": {},
     "output_type": "execute_result"
    }
   ],
   "source": [
    "X_train.shape"
   ]
  },
  {
   "cell_type": "code",
   "execution_count": 36,
   "metadata": {},
   "outputs": [],
   "source": [
    "from tensorflow.keras.models import Sequential\n",
    "from tensorflow.keras.layers import Dense,Conv2D,MaxPool2D,Flatten,Dropout\n",
    "import tensorflow as tf"
   ]
  },
  {
   "cell_type": "code",
   "execution_count": 37,
   "metadata": {},
   "outputs": [],
   "source": [
    "model = Sequential()\n",
    "\n",
    "model.add(Conv2D(filters=32,kernel_size=(4,4),input_shape=(28,28,1),activation='relu'))\n",
    "model.add(MaxPool2D(pool_size=(2,2)))\n",
    "model.add(Dropout(0.5))\n",
    "\n",
    "model.add(Flatten())\n",
    "\n",
    "model.add(Dense(256,activation='relu'))\n",
    "\n",
    "model.add(Dense(25,activation='softmax'))\n",
    "\n",
    "model.compile(loss = \"categorical_crossentropy\", optimizer = \"adam\",metrics=['accuracy'])"
   ]
  },
  {
   "cell_type": "code",
   "execution_count": 38,
   "metadata": {},
   "outputs": [],
   "source": [
    "from tensorflow.keras.callbacks import EarlyStopping"
   ]
  },
  {
   "cell_type": "code",
   "execution_count": 39,
   "metadata": {},
   "outputs": [],
   "source": [
    "early_stop = EarlyStopping(monitor='val_loss',patience=3)"
   ]
  },
  {
   "cell_type": "code",
   "execution_count": 40,
   "metadata": {},
   "outputs": [
    {
     "name": "stdout",
     "output_type": "stream",
     "text": [
      "Train on 27455 samples, validate on 7172 samples\n",
      "Epoch 1/30\n",
      "27455/27455 [==============================] - 13s 473us/sample - loss: 0.8739 - accuracy: 0.7629 - val_loss: 0.5216 - val_accuracy: 0.8412\n",
      "Epoch 2/30\n",
      "27455/27455 [==============================] - 12s 436us/sample - loss: 0.0825 - accuracy: 0.9847 - val_loss: 0.5031 - val_accuracy: 0.8648\n",
      "Epoch 3/30\n",
      "27455/27455 [==============================] - 12s 434us/sample - loss: 0.0296 - accuracy: 0.9952 - val_loss: 0.5301 - val_accuracy: 0.8682\n",
      "Epoch 4/30\n",
      "27455/27455 [==============================] - 12s 429us/sample - loss: 0.0174 - accuracy: 0.9966 - val_loss: 0.4887 - val_accuracy: 0.8938\n",
      "Epoch 5/30\n",
      "27455/27455 [==============================] - 12s 434us/sample - loss: 0.0114 - accuracy: 0.9975 - val_loss: 0.5587 - val_accuracy: 0.8869\n",
      "Epoch 6/30\n",
      "27455/27455 [==============================] - 12s 452us/sample - loss: 0.0113 - accuracy: 0.9974 - val_loss: 0.5742 - val_accuracy: 0.8731\n",
      "Epoch 7/30\n",
      "27455/27455 [==============================] - 12s 436us/sample - loss: 0.0101 - accuracy: 0.9974 - val_loss: 0.6297 - val_accuracy: 0.8897\n"
     ]
    }
   ],
   "source": [
    "history = model.fit(X_train,y_train_oh,epochs=30,validation_data=(X_test,y_test_oh),callbacks=[early_stop])"
   ]
  },
  {
   "cell_type": "code",
   "execution_count": 41,
   "metadata": {},
   "outputs": [],
   "source": [
    "import pandas as pd"
   ]
  },
  {
   "cell_type": "code",
   "execution_count": 42,
   "metadata": {},
   "outputs": [],
   "source": [
    " metrics= pd.DataFrame(model.history.history)"
   ]
  },
  {
   "cell_type": "code",
   "execution_count": 43,
   "metadata": {},
   "outputs": [
    {
     "data": {
      "text/plain": [
       "<matplotlib.axes._subplots.AxesSubplot at 0x7faf26489a90>"
      ]
     },
     "execution_count": 43,
     "metadata": {},
     "output_type": "execute_result"
    },
    {
     "data": {
      "image/png": "[encoded data removed]",
      "text/plain": [
       "<Figure size 432x288 with 1 Axes>"
      ]
     },
     "metadata": {
      "needs_background": "light"
     },
     "output_type": "display_data"
    }
   ],
   "source": [
    "metrics.plot()"
   ]
  },
  {
   "cell_type": "code",
   "execution_count": 44,
   "metadata": {},
   "outputs": [],
   "source": [
    "model.save('model_one.h5')"
   ]
  },
  {
   "cell_type": "code",
   "execution_count": 45,
   "metadata": {},
   "outputs": [
    {
     "data": {
      "text/plain": [
       "<matplotlib.axes._subplots.AxesSubplot at 0x7faf26214ed0>"
      ]
     },
     "execution_count": 45,
     "metadata": {},
     "output_type": "execute_result"
    },
    {
     "data": {
      "image/png": "[encoded data removed]",
      "text/plain": [
       "<Figure size 432x288 with 1 Axes>"
      ]
     },
     "metadata": {
      "needs_background": "light"
     },
     "output_type": "display_data"
    }
   ],
   "source": [
    "metrics[['loss','val_loss']].plot()"
   ]
  },
  {
   "cell_type": "code",
   "execution_count": 46,
   "metadata": {},
   "outputs": [],
   "source": [
    "model2 = Sequential()\n",
    "\n",
    "model2.add(Conv2D(filters=32,kernel_size=(4,4),input_shape=(28,28,1),activation='relu'))\n",
    "model2.add(MaxPool2D(pool_size=(2,2)))\n",
    "model2.add(Dropout(0.5))\n",
    "\n",
    "model2.add(Conv2D(filters=64,kernel_size=(4,4),activation='relu'))\n",
    "model2.add(MaxPool2D(pool_size=(2,2)))\n",
    "model2.add(Dropout(0.5))\n",
    "\n",
    "model2.add(Flatten())\n",
    "\n",
    "model2.add(Dense(256,activation='relu'))\n",
    "\n",
    "model2.add(Dense(25,activation='softmax'))\n",
    "\n",
    "model2.compile(loss = \"categorical_crossentropy\", optimizer = \"adam\",metrics=['accuracy'])"
   ]
  },
  {
   "cell_type": "code",
   "execution_count": 47,
   "metadata": {},
   "outputs": [
    {
     "name": "stdout",
     "output_type": "stream",
     "text": [
      "Train on 27455 samples, validate on 7172 samples\n",
      "Epoch 1/20\n",
      "27455/27455 [==============================] - 15s 563us/sample - loss: 1.2249 - accuracy: 0.6217 - val_loss: 0.4238 - val_accuracy: 0.8642\n",
      "Epoch 2/20\n",
      "27455/27455 [==============================] - 15s 539us/sample - loss: 0.2263 - accuracy: 0.9262 - val_loss: 0.2219 - val_accuracy: 0.9374\n",
      "Epoch 3/20\n",
      "27455/27455 [==============================] - 15s 563us/sample - loss: 0.1101 - accuracy: 0.9642 - val_loss: 0.1838 - val_accuracy: 0.9477\n",
      "Epoch 4/20\n",
      "27455/27455 [==============================] - 15s 542us/sample - loss: 0.0636 - accuracy: 0.9792 - val_loss: 0.1733 - val_accuracy: 0.9538\n",
      "Epoch 5/20\n",
      "27455/27455 [==============================] - 21s 779us/sample - loss: 0.0442 - accuracy: 0.9861 - val_loss: 0.1639 - val_accuracy: 0.9537\n",
      "Epoch 6/20\n",
      "27455/27455 [==============================] - 15s 546us/sample - loss: 0.0405 - accuracy: 0.9874 - val_loss: 0.2290 - val_accuracy: 0.9488\n",
      "Epoch 7/20\n",
      "27455/27455 [==============================] - 15s 564us/sample - loss: 0.0343 - accuracy: 0.9882 - val_loss: 0.1827 - val_accuracy: 0.9607\n",
      "Epoch 8/20\n",
      "27455/27455 [==============================] - 15s 536us/sample - loss: 0.0299 - accuracy: 0.9906 - val_loss: 0.1890 - val_accuracy: 0.9596\n"
     ]
    }
   ],
   "source": [
    "history2= model2.fit(X_train,y_train_oh,epochs=20,validation_data=[X_test,y_test_oh],callbacks=[early_stop])"
   ]
  },
  {
   "cell_type": "code",
   "execution_count": 48,
   "metadata": {},
   "outputs": [],
   "source": [
    " metrics2= pd.DataFrame(model2.history.history)"
   ]
  },
  {
   "cell_type": "code",
   "execution_count": 49,
   "metadata": {},
   "outputs": [
    {
     "data": {
      "text/plain": [
       "<matplotlib.axes._subplots.AxesSubplot at 0x7faf2578f750>"
      ]
     },
     "execution_count": 49,
     "metadata": {},
     "output_type": "execute_result"
    },
    {
     "data": {
      "image/png": "[encoded data removed]",
      "text/plain": [
       "<Figure size 432x288 with 1 Axes>"
      ]
     },
     "metadata": {
      "needs_background": "light"
     },
     "output_type": "display_data"
    }
   ],
   "source": [
    "metrics2.plot()"
   ]
  },
  {
   "cell_type": "markdown",
   "metadata": {},
   "source": [
    "Lets add another convolutional layer"
   ]
  },
  {
   "cell_type": "code",
   "execution_count": 50,
   "metadata": {},
   "outputs": [],
   "source": [
    "model2.save('model_two.h5')"
   ]
  },
  {
   "cell_type": "code",
   "execution_count": 51,
   "metadata": {},
   "outputs": [],
   "source": [
    "model3 = Sequential()\n",
    "\n",
    "model3.add(Conv2D(filters=32,kernel_size=(4,4),input_shape=(28,28,1),activation='relu'))\n",
    "model3.add(MaxPool2D(pool_size=(2,2)))\n",
    "model3.add(Dropout(0.5))\n",
    "\n",
    "model3.add(Conv2D(filters=64,kernel_size=(4,4),activation='relu'))\n",
    "model3.add(MaxPool2D(pool_size=(2,2)))\n",
    "model3.add(Dropout(0.5))\n",
    "\n",
    "model3.add(Flatten())\n",
    "\n",
    "model3.add(Dense(256,activation='relu'))\n",
    "\n",
    "model3.add(Dense(25,activation='softmax'))\n",
    "\n",
    "model3.compile(loss = \"categorical_crossentropy\", optimizer = \"rmsprop\",metrics=['accuracy'])"
   ]
  },
  {
   "cell_type": "code",
   "execution_count": 52,
   "metadata": {},
   "outputs": [
    {
     "name": "stdout",
     "output_type": "stream",
     "text": [
      "Train on 27455 samples, validate on 7172 samples\n",
      "Epoch 1/20\n",
      "27455/27455 [==============================] - 16s 577us/sample - loss: 1.2762 - accuracy: 0.6024 - val_loss: 0.4698 - val_accuracy: 0.8296\n",
      "Epoch 2/20\n",
      "27455/27455 [==============================] - 15s 548us/sample - loss: 0.2595 - accuracy: 0.9137 - val_loss: 0.2093 - val_accuracy: 0.9435\n",
      "Epoch 3/20\n",
      "27455/27455 [==============================] - 16s 571us/sample - loss: 0.1117 - accuracy: 0.9618 - val_loss: 0.1856 - val_accuracy: 0.9363\n",
      "Epoch 4/20\n",
      "27455/27455 [==============================] - 16s 568us/sample - loss: 0.0692 - accuracy: 0.9778 - val_loss: 0.1790 - val_accuracy: 0.9572\n",
      "Epoch 5/20\n",
      "27455/27455 [==============================] - 15s 544us/sample - loss: 0.0495 - accuracy: 0.9835 - val_loss: 0.2175 - val_accuracy: 0.9568\n",
      "Epoch 6/20\n",
      "27455/27455 [==============================] - 15s 545us/sample - loss: 0.0404 - accuracy: 0.9870 - val_loss: 0.2525 - val_accuracy: 0.9455\n",
      "Epoch 7/20\n",
      "27455/27455 [==============================] - 15s 547us/sample - loss: 0.0332 - accuracy: 0.9893 - val_loss: 0.2384 - val_accuracy: 0.9439\n"
     ]
    }
   ],
   "source": [
    "history3= model3.fit(X_train,y_train_oh,epochs=20,validation_data=[X_test,y_test_oh],callbacks=[early_stop])"
   ]
  },
  {
   "cell_type": "markdown",
   "metadata": {},
   "source": [
    "Here we can see that we got better result using adam optimizer. So model 2 performs better."
   ]
  },
  {
   "cell_type": "code",
   "execution_count": 54,
   "metadata": {},
   "outputs": [],
   "source": [
    "model3.save(\"model_three.h5\")"
   ]
  },
  {
   "cell_type": "code",
   "execution_count": 57,
   "metadata": {},
   "outputs": [],
   "source": [
    "test_case= X_test[5].reshape(28,28)"
   ]
  },
  {
   "cell_type": "code",
   "execution_count": 60,
   "metadata": {},
   "outputs": [
    {
     "data": {
      "text/plain": [
       "<matplotlib.image.AxesImage at 0x7faf2449a490>"
      ]
     },
     "execution_count": 60,
     "metadata": {},
     "output_type": "execute_result"
    },
    {
     "data": {
      "image/png": "[encoded data removed]",
      "text/plain": [
       "<Figure size 432x288 with 1 Axes>"
      ]
     },
     "metadata": {
      "needs_background": "light"
     },
     "output_type": "display_data"
    }
   ],
   "source": [
    "plt.imshow(test_case,cmap='gray')"
   ]
  },
  {
   "cell_type": "code",
   "execution_count": 69,
   "metadata": {},
   "outputs": [
    {
     "data": {
      "text/plain": [
       "21"
      ]
     },
     "execution_count": 69,
     "metadata": {},
     "output_type": "execute_result"
    }
   ],
   "source": [
    "model2.predict_classes(X_test)[5]"
   ]
  },
  {
   "cell_type": "code",
   "execution_count": 61,
   "metadata": {},
   "outputs": [
    {
     "data": {
      "text/plain": [
       "21"
      ]
     },
     "execution_count": 61,
     "metadata": {},
     "output_type": "execute_result"
    }
   ],
   "source": [
    "y_test[5]"
   ]
  },
  {
   "cell_type": "code",
   "execution_count": 70,
   "metadata": {},
   "outputs": [
    {
     "name": "stdout",
     "output_type": "stream",
     "text": [
      "Model: \"sequential_1\"\n",
      "_________________________________________________________________\n",
      "Layer (type)                 Output Shape              Param #   \n",
      "=================================================================\n",
      "conv2d_1 (Conv2D)            (None, 25, 25, 32)        544       \n",
      "_________________________________________________________________\n",
      "max_pooling2d_1 (MaxPooling2 (None, 12, 12, 32)        0         \n",
      "_________________________________________________________________\n",
      "dropout_1 (Dropout)          (None, 12, 12, 32)        0         \n",
      "_________________________________________________________________\n",
      "conv2d_2 (Conv2D)            (None, 9, 9, 64)          32832     \n",
      "_________________________________________________________________\n",
      "max_pooling2d_2 (MaxPooling2 (None, 4, 4, 64)          0         \n",
      "_________________________________________________________________\n",
      "dropout_2 (Dropout)          (None, 4, 4, 64)          0         \n",
      "_________________________________________________________________\n",
      "flatten_1 (Flatten)          (None, 1024)              0         \n",
      "_________________________________________________________________\n",
      "dense_2 (Dense)              (None, 256)               262400    \n",
      "_________________________________________________________________\n",
      "dense_3 (Dense)              (None, 25)                6425      \n",
      "=================================================================\n",
      "Total params: 302,201\n",
      "Trainable params: 302,201\n",
      "Non-trainable params: 0\n",
      "_________________________________________________________________\n"
     ]
    }
   ],
   "source": [
    "model2.summary()"
   ]
  },
  {
   "cell_type": "code",
   "execution_count": 73,
   "metadata": {},
   "outputs": [
    {
     "name": "stdout",
     "output_type": "stream",
     "text": [
      "7172/7172 [==============================] - 1s 114us/sample - loss: 0.6297 - accuracy: 0.8897\n"
     ]
    },
    {
     "data": {
      "text/plain": [
       "[0.6296680766300905, 0.88971]"
      ]
     },
     "execution_count": 73,
     "metadata": {},
     "output_type": "execute_result"
    }
   ],
   "source": [
    "model.evaluate(X_test,y_test_oh)"
   ]
  },
  {
   "cell_type": "code",
   "execution_count": 74,
   "metadata": {},
   "outputs": [
    {
     "name": "stdout",
     "output_type": "stream",
     "text": [
      "7172/7172 [==============================] - 1s 147us/sample - loss: 0.1890 - accuracy: 0.9596\n"
     ]
    },
    {
     "data": {
      "text/plain": [
       "[0.18897264013825243, 0.959565]"
      ]
     },
     "execution_count": 74,
     "metadata": {},
     "output_type": "execute_result"
    }
   ],
   "source": [
    "model2.evaluate(X_test,y_test_oh)"
   ]
  },
  {
   "cell_type": "code",
   "execution_count": null,
   "metadata": {},
   "outputs": [],
   "source": [
    "model3.evaluate(X_test,y_test_oh)"
   ]
  }
 ],
 "metadata": {
  "kernelspec": {
   "display_name": "Python 3",
   "language": "python",
   "name": "python3"
  },
  "language_info": {
   "codemirror_mode": {
    "name": "ipython",
    "version": 3
   },
   "file_extension": ".py",
   "mimetype": "text/x-python",
   "name": "python",
   "nbconvert_exporter": "python",
   "pygments_lexer": "ipython3",
   "version": "3.7.6"
  }
 },
 "nbformat": 4,
 "nbformat_minor": 4
}
